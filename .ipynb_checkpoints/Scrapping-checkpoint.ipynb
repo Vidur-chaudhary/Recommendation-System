{
 "cells": [
  {
   "cell_type": "code",
   "execution_count": 1,
   "id": "65d051f2-d09a-4277-8c74-bf51369ac535",
   "metadata": {},
   "outputs": [
    {
     "name": "stdout",
     "output_type": "stream",
     "text": [
      "Requirement already satisfied: selenium in /opt/anaconda3/lib/python3.11/site-packages (4.31.0)\n",
      "Requirement already satisfied: pandas in /opt/anaconda3/lib/python3.11/site-packages (2.1.4)\n",
      "Requirement already satisfied: webdriver-manager in /opt/anaconda3/lib/python3.11/site-packages (4.0.2)\n",
      "Requirement already satisfied: urllib3<3,>=1.26 in /opt/anaconda3/lib/python3.11/site-packages (from urllib3[socks]<3,>=1.26->selenium) (2.0.7)\n",
      "Requirement already satisfied: trio~=0.17 in /opt/anaconda3/lib/python3.11/site-packages (from selenium) (0.29.0)\n",
      "Requirement already satisfied: trio-websocket~=0.9 in /opt/anaconda3/lib/python3.11/site-packages (from selenium) (0.12.2)\n",
      "Requirement already satisfied: certifi>=2021.10.8 in /opt/anaconda3/lib/python3.11/site-packages (from selenium) (2025.1.31)\n",
      "Requirement already satisfied: typing_extensions~=4.9 in /opt/anaconda3/lib/python3.11/site-packages (from selenium) (4.12.2)\n",
      "Requirement already satisfied: websocket-client~=1.8 in /opt/anaconda3/lib/python3.11/site-packages (from selenium) (1.8.0)\n",
      "Requirement already satisfied: numpy<2,>=1.23.2 in /opt/anaconda3/lib/python3.11/site-packages (from pandas) (1.26.4)\n",
      "Requirement already satisfied: python-dateutil>=2.8.2 in /opt/anaconda3/lib/python3.11/site-packages (from pandas) (2.8.2)\n",
      "Requirement already satisfied: pytz>=2020.1 in /opt/anaconda3/lib/python3.11/site-packages (from pandas) (2023.3.post1)\n",
      "Requirement already satisfied: tzdata>=2022.1 in /opt/anaconda3/lib/python3.11/site-packages (from pandas) (2023.3)\n",
      "Requirement already satisfied: requests in /opt/anaconda3/lib/python3.11/site-packages (from webdriver-manager) (2.32.3)\n",
      "Requirement already satisfied: python-dotenv in /opt/anaconda3/lib/python3.11/site-packages (from webdriver-manager) (0.21.0)\n",
      "Requirement already satisfied: packaging in /opt/anaconda3/lib/python3.11/site-packages (from webdriver-manager) (23.1)\n",
      "Requirement already satisfied: six>=1.5 in /opt/anaconda3/lib/python3.11/site-packages (from python-dateutil>=2.8.2->pandas) (1.16.0)\n",
      "Requirement already satisfied: attrs>=23.2.0 in /opt/anaconda3/lib/python3.11/site-packages (from trio~=0.17->selenium) (25.3.0)\n",
      "Requirement already satisfied: sortedcontainers in /opt/anaconda3/lib/python3.11/site-packages (from trio~=0.17->selenium) (2.4.0)\n",
      "Requirement already satisfied: idna in /opt/anaconda3/lib/python3.11/site-packages (from trio~=0.17->selenium) (3.4)\n",
      "Requirement already satisfied: outcome in /opt/anaconda3/lib/python3.11/site-packages (from trio~=0.17->selenium) (1.3.0.post0)\n",
      "Requirement already satisfied: sniffio>=1.3.0 in /opt/anaconda3/lib/python3.11/site-packages (from trio~=0.17->selenium) (1.3.0)\n",
      "Requirement already satisfied: wsproto>=0.14 in /opt/anaconda3/lib/python3.11/site-packages (from trio-websocket~=0.9->selenium) (1.2.0)\n",
      "Requirement already satisfied: pysocks!=1.5.7,<2.0,>=1.5.6 in /opt/anaconda3/lib/python3.11/site-packages (from urllib3[socks]<3,>=1.26->selenium) (1.7.1)\n",
      "Requirement already satisfied: charset-normalizer<4,>=2 in /opt/anaconda3/lib/python3.11/site-packages (from requests->webdriver-manager) (2.0.4)\n",
      "Requirement already satisfied: h11<1,>=0.9.0 in /opt/anaconda3/lib/python3.11/site-packages (from wsproto>=0.14->trio-websocket~=0.9->selenium) (0.14.0)\n"
     ]
    }
   ],
   "source": [
    "!pip install selenium pandas webdriver-manager\n"
   ]
  },
  {
   "cell_type": "code",
   "execution_count": 8,
   "id": "7e914a21-e9ed-4bad-97c0-5f7a5852463e",
   "metadata": {
    "scrolled": true
   },
   "outputs": [
    {
     "name": "stdout",
     "output_type": "stream",
     "text": [
      "⚠️ Error processing row: Message: no such element: Unable to locate element: {\"method\":\"tag name\",\"selector\":\"a\"}\n",
      "  (Session info: chrome=135.0.7049.96); For documentation on this error, please visit: https://www.selenium.dev/documentation/webdriver/troubleshooting/errors#no-such-element-exception\n",
      "Stacktrace:\n",
      "0   chromedriver                        0x0000000104ffee10 cxxbridge1$str$ptr + 2817040\n",
      "1   chromedriver                        0x0000000104ff70ac cxxbridge1$str$ptr + 2784940\n",
      "2   chromedriver                        0x0000000104b3e8d8 cxxbridge1$string$len + 93028\n",
      "3   chromedriver                        0x0000000104b856a0 cxxbridge1$string$len + 383276\n",
      "4   chromedriver                        0x0000000104b7ad3c cxxbridge1$string$len + 339912\n",
      "5   chromedriver                        0x0000000104bc67b8 cxxbridge1$string$len + 649796\n",
      "6   chromedriver                        0x0000000104b79a80 cxxbridge1$string$len + 335116\n",
      "7   chromedriver                        0x0000000104fc3c98 cxxbridge1$str$ptr + 2575000\n",
      "8   chromedriver                        0x0000000104fc6f64 cxxbridge1$str$ptr + 2588004\n",
      "9   chromedriver                        0x0000000104fa3a20 cxxbridge1$str$ptr + 2443296\n",
      "10  chromedriver                        0x0000000104fc77e0 cxxbridge1$str$ptr + 2590176\n",
      "11  chromedriver                        0x0000000104f94b14 cxxbridge1$str$ptr + 2382100\n",
      "12  chromedriver                        0x0000000104fe79c4 cxxbridge1$str$ptr + 2721732\n",
      "13  chromedriver                        0x0000000104fe7b50 cxxbridge1$str$ptr + 2722128\n",
      "14  chromedriver                        0x0000000104ff6cf8 cxxbridge1$str$ptr + 2783992\n",
      "15  libsystem_pthread.dylib             0x0000000193d1ef94 _pthread_start + 136\n",
      "16  libsystem_pthread.dylib             0x0000000193d19d34 thread_start + 8\n",
      "\n",
      "✅ Found 24 valid assessment entries.\n",
      "✅ Saved to shl_assessments.csv\n"
     ]
    }
   ],
   "source": [
    "from selenium import webdriver\n",
    "from selenium.webdriver.chrome.service import Service\n",
    "from selenium.webdriver.common.by import By\n",
    "from webdriver_manager.chrome import ChromeDriverManager\n",
    "import pandas as pd\n",
    "import time\n",
    "\n",
    "options = webdriver.ChromeOptions()\n",
    "options.add_argument(\"--headless\")\n",
    "options.add_argument(\"--no-sandbox\")\n",
    "options.add_argument(\"--disable-dev-shm-usage\")\n",
    "\n",
    "driver = webdriver.Chrome(service=Service(ChromeDriverManager().install()), options=options)\n",
    "\n",
    "# Open catalog\n",
    "driver.get(\"https://www.shl.com/solutions/products/product-catalog/\")\n",
    "time.sleep(5)\n",
    "\n",
    "# Grab all <tr> rows in the main catalog table\n",
    "rows = driver.find_elements(By.CSS_SELECTOR, \"table tr\")[1:]  # Skipping header\n",
    "\n",
    "catalog_links = []\n",
    "\n",
    "for row in rows:\n",
    "    try:\n",
    "        cells = row.find_elements(By.TAG_NAME, \"td\")\n",
    "\n",
    "        link_elem = row.find_element(By.TAG_NAME, \"a\")\n",
    "        name = link_elem.text.strip()\n",
    "        url = link_elem.get_attribute(\"href\")\n",
    "\n",
    "        # Check green dot by class \".catalogue__circle.-yes\"\n",
    "        try:\n",
    "            cells[1].find_element(By.CSS_SELECTOR, \".catalogue__circle.-yes\")\n",
    "            remote_support = \"Yes\"\n",
    "        except:\n",
    "            remote_support = \"No\"\n",
    "\n",
    "        try:\n",
    "            cells[2].find_element(By.CSS_SELECTOR, \".catalogue__circle.-yes\")\n",
    "            adaptive_support = \"Yes\"\n",
    "        except:\n",
    "            adaptive_support = \"No\"\n",
    "\n",
    "        # Get test type\n",
    "        test_type = \", \".join([tt.text.strip() for tt in cells[3].find_elements(By.TAG_NAME, \"span\")])\n",
    "\n",
    "        catalog_links.append({\n",
    "            \"name\": name,\n",
    "            \"url\": url,\n",
    "            \"remote_support\": remote_support,\n",
    "            \"adaptive_support\": adaptive_support,\n",
    "            \"test_type\": test_type\n",
    "        })\n",
    "\n",
    "    except Exception as e:\n",
    "        print(\"⚠️ Error processing row:\", e)\n",
    "        continue\n",
    "\n",
    "\n",
    "\n",
    "print(f\"✅ Found {len(catalog_links)} valid assessment entries.\")\n",
    "\n",
    "# Save to CSV\n",
    "df = pd.DataFrame(catalog_links)\n",
    "df.to_csv(\"shl_assessments.csv\", index=False)\n",
    "print(\"✅ Saved to shl_assessments.csv\")\n",
    "\n",
    "driver.quit()\n"
   ]
  },
  {
   "cell_type": "code",
   "execution_count": null,
   "id": "c8068ce6-0e12-4aa7-bb84-747d55ae51db",
   "metadata": {},
   "outputs": [],
   "source": []
  }
 ],
 "metadata": {
  "kernelspec": {
   "display_name": "Python 3 (ipykernel)",
   "language": "python",
   "name": "python3"
  },
  "language_info": {
   "codemirror_mode": {
    "name": "ipython",
    "version": 3
   },
   "file_extension": ".py",
   "mimetype": "text/x-python",
   "name": "python",
   "nbconvert_exporter": "python",
   "pygments_lexer": "ipython3",
   "version": "3.11.7"
  }
 },
 "nbformat": 4,
 "nbformat_minor": 5
}
